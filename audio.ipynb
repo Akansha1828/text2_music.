{
 "cells": [
  {
   "cell_type": "code",
   "execution_count": 39,
   "metadata": {},
   "outputs": [],
   "source": [
    "import audiocraft\n",
    "from audiocraft.models import MusicGen\n",
    "import streamlit as st \n",
    "import torch \n",
    "import torchaudio\n",
    "import os \n",
    "import numpy as np\n",
    "import base64"
   ]
  },
  {
   "cell_type": "code",
   "execution_count": 40,
   "metadata": {},
   "outputs": [],
   "source": [
    "@st.cache_resource\n",
    "def load_model():\n",
    "    model = MusicGen.get_pretrained('facebook/musicgen-small')\n",
    "    return model"
   ]
  },
  {
   "cell_type": "code",
   "execution_count": 41,
   "metadata": {},
   "outputs": [],
   "source": [
    "def generate_music_tensors(description, duration: int):\n",
    "    print(\"Description: \", description)\n",
    "    print(\"Duration: \", duration)\n",
    "    model = load_model()\n",
    "\n",
    "    model.set_generation_params(\n",
    "        use_sampling=True,\n",
    "        top_k=250,\n",
    "        duration=duration\n",
    "    )\n",
    "\n",
    "    output = model.generate(\n",
    "        descriptions=[description],\n",
    "        progress=True,\n",
    "        return_tokens=True\n",
    "    )\n",
    "\n",
    "    return output[0]\n"
   ]
  },
  {
   "cell_type": "code",
   "execution_count": 42,
   "metadata": {},
   "outputs": [],
   "source": [
    "def save_audio(samples: torch.Tensor):\n",
    "    \"\"\"Renders an audio player for the given audio samples and saves them to a local directory.\n",
    "\n",
    "    Args:\n",
    "        samples (torch.Tensor): a Tensor of decoded audio samples\n",
    "            with shapes [B, C, T] or [C, T]\n",
    "        sample_rate (int): sample rate audio should be displayed with.\n",
    "        save_path (str): path to the directory where audio should be saved.\n",
    "    \"\"\"\n",
    "\n",
    "    print(\"Samples (inside function): \", samples)\n",
    "    sample_rate = 32000\n",
    "    save_path = \"audio_output/\"\n",
    "    assert samples.dim() == 2 or samples.dim() == 3\n",
    "\n",
    "    samples = samples.detach().cpu()\n",
    "    if samples.dim() == 2:\n",
    "        samples = samples[None, ...]\n",
    "\n",
    "    for idx, audio in enumerate(samples):\n",
    "        audio_path = os.path.join(save_path, f\"audio_{idx}.wav\")\n",
    "        torchaudio.save(audio_path, audio, sample_rate)"
   ]
  },
  {
   "cell_type": "code",
   "execution_count": 43,
   "metadata": {},
   "outputs": [
    {
     "name": "stderr",
     "output_type": "stream",
     "text": [
      "2024-09-06 02:47:52.834 Thread 'MainThread': missing ScriptRunContext! This warning can be ignored when running in bare mode.\n"
     ]
    }
   ],
   "source": [
    "def get_binary_file_downloader_html(bin_file, file_label='File'):\n",
    "    with open(bin_file, 'rb') as f:\n",
    "        data = f.read()\n",
    "    bin_str = base64.b64encode(data).decode()\n",
    "    href = f'<a href=\"data:application/octet-stream;base64,{bin_str}\" download=\"{os.path.basename(bin_file)}\">Download {file_label}</a>'\n",
    "    return href\n",
    "\n",
    "st.set_page_config(\n",
    "    page_icon= \"musical_note\",\n",
    "    page_title= \"Music Gen\"\n",
    ")"
   ]
  },
  {
   "cell_type": "code",
   "execution_count": 44,
   "metadata": {},
   "outputs": [],
   "source": [
    "def main():\n",
    "\n",
    "    st.title(\"Text to Music Generator🎵\")\n",
    "\n",
    "    with st.expander(\"See explanation\"):\n",
    "        st.write(\"Music Generator app built using Meta's Audiocraft library. We are using Music Gen Small model.\")\n",
    "\n",
    "    text_area = st.text_area(\"Enter your description.......\")\n",
    "    time_slider = st.slider(\"Select time duration (In Seconds)\", 0, 20, 10)\n",
    "\n",
    "    if text_area and time_slider:\n",
    "        st.json({\n",
    "            'Your Description': text_area,\n",
    "            'Selected Time Duration (in Seconds)': time_slider\n",
    "        })\n",
    "\n",
    "        st.subheader(\"Generated Music\")\n",
    "        music_tensors = generate_music_tensors(text_area, time_slider)\n",
    "        print(\"Musci Tensors: \", music_tensors)\n",
    "        save_music_file = save_audio(music_tensors)\n",
    "        audio_filepath = 'audio_output/audio_0.wav'\n",
    "        audio_file = open(audio_filepath, 'rb')\n",
    "        audio_bytes = audio_file.read()\n",
    "        st.audio(audio_bytes)\n",
    "        st.markdown(get_binary_file_downloader_html(audio_filepath, 'Audio'), unsafe_allow_html=True)"
   ]
  },
  {
   "cell_type": "code",
   "execution_count": 45,
   "metadata": {},
   "outputs": [
    {
     "name": "stderr",
     "output_type": "stream",
     "text": [
      "2024-09-06 02:47:52.893 Thread 'MainThread': missing ScriptRunContext! This warning can be ignored when running in bare mode.\n",
      "2024-09-06 02:47:52.895 Thread 'MainThread': missing ScriptRunContext! This warning can be ignored when running in bare mode.\n",
      "2024-09-06 02:47:52.899 Thread 'MainThread': missing ScriptRunContext! This warning can be ignored when running in bare mode.\n",
      "2024-09-06 02:47:52.902 Thread 'MainThread': missing ScriptRunContext! This warning can be ignored when running in bare mode.\n",
      "2024-09-06 02:47:52.903 Thread 'MainThread': missing ScriptRunContext! This warning can be ignored when running in bare mode.\n",
      "2024-09-06 02:47:52.905 Thread 'MainThread': missing ScriptRunContext! This warning can be ignored when running in bare mode.\n",
      "2024-09-06 02:47:52.907 Thread 'MainThread': missing ScriptRunContext! This warning can be ignored when running in bare mode.\n",
      "2024-09-06 02:47:52.909 Thread 'MainThread': missing ScriptRunContext! This warning can be ignored when running in bare mode.\n",
      "2024-09-06 02:47:52.912 Thread 'MainThread': missing ScriptRunContext! This warning can be ignored when running in bare mode.\n",
      "2024-09-06 02:47:52.915 Thread 'MainThread': missing ScriptRunContext! This warning can be ignored when running in bare mode.\n",
      "2024-09-06 02:47:52.920 Thread 'MainThread': missing ScriptRunContext! This warning can be ignored when running in bare mode.\n",
      "2024-09-06 02:47:52.923 Thread 'MainThread': missing ScriptRunContext! This warning can be ignored when running in bare mode.\n",
      "2024-09-06 02:47:52.926 Thread 'MainThread': missing ScriptRunContext! This warning can be ignored when running in bare mode.\n",
      "2024-09-06 02:47:52.928 Thread 'MainThread': missing ScriptRunContext! This warning can be ignored when running in bare mode.\n",
      "2024-09-06 02:47:52.929 Thread 'MainThread': missing ScriptRunContext! This warning can be ignored when running in bare mode.\n",
      "2024-09-06 02:47:52.932 Thread 'MainThread': missing ScriptRunContext! This warning can be ignored when running in bare mode.\n"
     ]
    }
   ],
   "source": [
    "if __name__ == \"__main__\":\n",
    "    main()\n",
    "\n",
    "\n"
   ]
  },
  {
   "cell_type": "code",
   "execution_count": null,
   "metadata": {},
   "outputs": [],
   "source": []
  },
  {
   "cell_type": "code",
   "execution_count": null,
   "metadata": {},
   "outputs": [],
   "source": []
  }
 ],
 "metadata": {
  "kernelspec": {
   "display_name": "Python 3",
   "language": "python",
   "name": "python3"
  },
  "language_info": {
   "codemirror_mode": {
    "name": "ipython",
    "version": 3
   },
   "file_extension": ".py",
   "mimetype": "text/x-python",
   "name": "python",
   "nbconvert_exporter": "python",
   "pygments_lexer": "ipython3",
   "version": "3.10.12"
  }
 },
 "nbformat": 4,
 "nbformat_minor": 2
}
